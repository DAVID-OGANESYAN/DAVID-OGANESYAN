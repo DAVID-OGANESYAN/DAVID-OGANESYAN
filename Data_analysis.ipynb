{
 "cells": [
  {
   "cell_type": "code",
   "execution_count": 56,
   "metadata": {},
   "outputs": [],
   "source": [
    "import pandas as pd\n",
    "\n",
    "file_path = 'WorldHappiness.xls'\n",
    "data = pd.read_excel(file_path).dropna()\n"
   ]
  },
  {
   "cell_type": "code",
   "execution_count": 57,
   "metadata": {},
   "outputs": [
    {
     "name": "stdout",
     "output_type": "stream",
     "text": [
      "The country with the highest average value for \"Life Ladder\": Denmark with a score of 7.64\n",
      "The country with the highest average value for \"Log GDP per capita\": Luxembourg with a score of 11.64\n",
      "The country with the highest average value for \"Social support\": Iceland with a score of 0.98\n",
      "The country with the highest average value for \"Healthy life expectancy at birth\": Japan with a score of 73.63\n",
      "The country with the highest average value for \"Freedom to make life choices\": Norway with a score of 0.95\n",
      "The country with the highest average value for \"Generosity\": Myanmar with a score of 0.60\n",
      "The country with the highest average value for \"Perceptions of corruption\": Romania with a score of 0.95\n",
      "The country with the highest average value for \"Positive affect\": Panama with a score of 0.82\n",
      "The country with the highest average value for \"Negative affect\": Iraq with a score of 0.50\n"
     ]
    }
   ],
   "source": [
    "metrics = ['Life Ladder',\n",
    "    'Log GDP per capita',\n",
    "    'Social support',\n",
    "    'Healthy life expectancy at birth',\n",
    "    'Freedom to make life choices',\n",
    "    'Generosity',\n",
    "    'Perceptions of corruption',\n",
    "    'Positive affect',\n",
    "    'Negative affect']\n",
    "\n",
    "#Highest mean\n",
    "for metric in metrics:\n",
    "    country_means = data.groupby('Country name')[metric].mean()\n",
    "    highest_mean_country = country_means.idxmax()\n",
    "    highest_mean_value = country_means.max()\n",
    "    print(f\"The country with the highest average value for \\\"{metric}\\\": {highest_mean_country} with a score of {highest_mean_value:.2f}\")\n"
   ]
  },
  {
   "cell_type": "code",
   "execution_count": 58,
   "metadata": {},
   "outputs": [
    {
     "name": "stdout",
     "output_type": "stream",
     "text": [
      "The country with the highest average in the \"Emotional Well-being\" category is Denmark with an average value of 2.88\n",
      "The country with the highest average in the \"Health and Well-being\" category is Japan with an average value of 73.63\n",
      "The country with the highest average in the \"Freedom and Governance\" category is Cambodia with an average value of 0.90\n",
      "The country with the highest average in the \"Social Support and Relationships\" category is Myanmar with an average value of 0.68\n",
      "The country with the highest average in the \"Economic Well-being\" category is Luxembourg with an average value of 11.64\n"
     ]
    }
   ],
   "source": [
    "categories = {'Emotional Well-being': ['Life Ladder', 'Positive affect', 'Negative affect'],\n",
    "    'Health and Well-being': ['Healthy life expectancy at birth'],\n",
    "    'Freedom and Governance': ['Freedom to make life choices', 'Perceptions of corruption'],\n",
    "    'Social Support and Relationships': ['Social support', 'Generosity'],\n",
    "    'Economic Well-being': ['Log GDP per capita']}\n",
    "\n",
    "#avr\n",
    "for category, variables in categories.items():\n",
    "    average_by_country = data[variables].mean(axis=1).groupby(data['Country name']).mean()\n",
    "    best_country = average_by_country.idxmax()\n",
    "    best_score = average_by_country.max()\n",
    "    print(f\"The country with the highest average in the \\\"{category}\\\" category is {best_country} with an average value of {best_score:.2f}\")\n"
   ]
  },
  {
   "cell_type": "code",
   "execution_count": 59,
   "metadata": {},
   "outputs": [
    {
     "name": "stdout",
     "output_type": "stream",
     "text": [
      "The happiest country is Iceland with an average result of 10 .\n"
     ]
    }
   ],
   "source": [
    "#The happiest country\n",
    "average_data = data.groupby('Country name')[['Life Ladder', 'Log GDP per capita', 'Social support','Healthy life expectancy at birth','Freedom to make life choices','Generosity','Perceptions of corruption','Positive affect','Negative affect']].mean()\n",
    "\n",
    "row_averages = average_data.mean(axis=1)\n",
    "\n",
    "max_average = row_averages.max()\n",
    "country_with_max_average = row_averages.idxmax()\n",
    "\n",
    "print(\"The happiest country is\", country_with_max_average, \"with an average result of\",int(max_average),\".\")"
   ]
  },
  {
   "cell_type": "code",
   "execution_count": 60,
   "metadata": {},
   "outputs": [
    {
     "name": "stdout",
     "output_type": "stream",
     "text": [
      "Life Ladder: 7.462\n",
      "Log GDP per capita: 10.877\n",
      "Social support: 0.978\n",
      "Healthy life expectancy at birth: 71.852\n",
      "Freedom to make life choices: 0.927\n",
      "Generosity: 0.254\n",
      "Perceptions of corruption: 0.696\n",
      "Positive affect: 0.807\n",
      "Negative affect: 0.165\n"
     ]
    }
   ],
   "source": [
    "Iceland_data= average_data[average_data.index == 'Iceland']\n",
    "for column in Iceland_data.columns:\n",
    "\n",
    "    print(f\"{column}: {Iceland_data[column].values[0]:.3f}\")"
   ]
  },
  {
   "cell_type": "markdown",
   "metadata": {},
   "source": [
    "### Potential causes of being the happiest country\n",
    "\n",
    "- **Social Support**: \n",
    "\n",
    "    Close communities with a strong focus on friendships and family provide excellent social support networks.\n",
    "\n",
    "- **High Standard of Living**: \n",
    "\n",
    "    Economic stability and high GDP per capita ensure access to quality healthcare, education, and other basic needs.\n",
    "\n",
    "- **Good Governance**: \n",
    "\n",
    "    Low corruption and high trust in government institutions ensure effective public services and a fair justice system.\n",
    "\n",
    "- **Health & Well-Being**:\n",
    "\n",
    "    High life expectancy and good healthcare services contribute to long and healthy lives.\n",
    "\n",
    "- **Freedom and Autonomy**: \n",
    "\n",
    "    Encouraging personal freedom and self-determination helps people make meaningful life choices.\n",
    "\n",
    "- **Natural Environment**: \n",
    "\n",
    "    Beautiful landscapes, clean environment, and opportunities for outdoor activities improve well-being.\n",
    "\n",
    "- **Cultural Factors**: \n",
    "\n",
    "    A culture that values innovation, resilience, and balanced lifestyles contributes to overall happiness."
   ]
  }
 ],
 "metadata": {
  "kernelspec": {
   "display_name": "base",
   "language": "python",
   "name": "python3"
  },
  "language_info": {
   "codemirror_mode": {
    "name": "ipython",
    "version": 3
   },
   "file_extension": ".py",
   "mimetype": "text/x-python",
   "name": "python",
   "nbconvert_exporter": "python",
   "pygments_lexer": "ipython3",
   "version": "3.11.5"
  }
 },
 "nbformat": 4,
 "nbformat_minor": 2
}
